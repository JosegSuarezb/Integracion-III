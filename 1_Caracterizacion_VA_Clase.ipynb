{
  "nbformat": 4,
  "nbformat_minor": 0,
  "metadata": {
    "colab": {
      "provenance": [],
      "authorship_tag": "ABX9TyNSUnDmd5RMtW6qtaxYSISU",
      "include_colab_link": true
    },
    "kernelspec": {
      "name": "python3",
      "display_name": "Python 3"
    },
    "language_info": {
      "name": "python"
    }
  },
  "cells": [
    {
      "cell_type": "markdown",
      "metadata": {
        "id": "view-in-github",
        "colab_type": "text"
      },
      "source": [
        "<a href=\"https://colab.research.google.com/github/JosegSuarezb/Integracion-III/blob/main/1_Caracterizacion_VA_Clase.ipynb\" target=\"_parent\"><img src=\"https://colab.research.google.com/assets/colab-badge.svg\" alt=\"Open In Colab\"/></a>"
      ]
    },
    {
      "cell_type": "markdown",
      "source": [
        "#**Caracterizacion experimental de variables**"
      ],
      "metadata": {
        "id": "T9u1uzeQeROL"
      }
    },
    {
      "cell_type": "markdown",
      "source": [
        "0. Cargar las librerias de trabajo"
      ],
      "metadata": {
        "id": "P-HTMyEZehI-"
      }
    },
    {
      "cell_type": "code",
      "execution_count": null,
      "metadata": {
        "colab": {
          "base_uri": "https://localhost:8080/"
        },
        "id": "B-70KwYMYta9",
        "outputId": "bb6aa88a-d95e-4bf1-c674-087f73c40804"
      },
      "outputs": [
        {
          "output_type": "stream",
          "name": "stdout",
          "text": [
            "Drive already mounted at /content/drive; to attempt to forcibly remount, call drive.mount(\"/content/drive\", force_remount=True).\n"
          ]
        }
      ],
      "source": [
        "import numpy as np #funciones numericas\n",
        "import pandas as pd #comunicacion con el excel\n",
        "import matplotlib.pyplot as plt\n",
        "import seaborn as sns #Libreria para la grafica de distribuciones\n",
        "\n",
        "#para carga automatica de los datos\n",
        "from google.colab import drive  #cargar datos desde el drive\n",
        "drive.mount('/content/drive')"
      ]
    },
    {
      "cell_type": "markdown",
      "source": [
        "1. se procede con la carga de los datos"
      ],
      "metadata": {
        "id": "KOiD0Onzg0oJ"
      }
    },
    {
      "cell_type": "code",
      "source": [
        "nxl='/content/drive/MyDrive/Integracion de datos (enfasis)/3. FallasTecnologicas (1).xlsx'\n",
        "XDB=pd.read_excel(nxl,sheet_name=0)\n",
        "XDB.head(100) #mostrar los primero 100 datos\n",
        "\n",
        "#Tomamos las variables de interes\n",
        "Xev=XDB.iloc[:,3] #Variable eventos semanales\n",
        "Xsev=XDB.iloc[:,4] #perdidas promedio por evento\n",
        "LDA=np.multiply(Xev,Xsev)\n",
        "\n",
        "#graficamos la distribucion de las perdidas\n",
        "plt.figure()\n",
        "sns.histplot(LDA, kde=True, bins=10)\n",
        "#bins agrupar los datos en 10 intervalos\n",
        "plt.legend(['Distribucion de Perdidas'])\n",
        "plt.show()\n"
      ],
      "metadata": {
        "colab": {
          "base_uri": "https://localhost:8080/",
          "height": 430
        },
        "id": "NmGzqEGgg3NU",
        "outputId": "79baa3c3-73d7-47e4-845f-5247364ab277"
      },
      "execution_count": null,
      "outputs": [
        {
          "output_type": "display_data",
          "data": {
            "text/plain": [
              "<Figure size 640x480 with 1 Axes>"
            ],
            "image/png": "[encoded data removed]"
          },
          "metadata": {}
        }
      ]
    },
    {
      "cell_type": "markdown",
      "source": [
        "2. Caracterizacion de la distribucion de las perdidas"
      ],
      "metadata": {
        "id": "shQ0rRwylWTW"
      }
    },
    {
      "cell_type": "code",
      "source": [
        "counts,bin_edges=np.histogram(LDA,bins=10)\n",
        "print('Los datos por intervalo son:\\n',counts) #cuantos datos hay por intervalo\n",
        "print('Los limites de los intervalos son:\\n',bin_edges) #limites de los intervalos\n",
        "\n",
        "#Los valores centrales - marcas de clase\n",
        "mc=(bin_edges[:-1]+bin_edges[1:])/2\n",
        "#limites inferiore bin_edges[:-1]\n",
        "#limites superiores bin_edges[1:]\n",
        "print('Los valores centrales de las clases son:\\n',mc)\n",
        "\n",
        "#cuantos datos hay por intervalo %\n",
        "fp=counts/sum(counts)\n",
        "print('Los datos por intervalo son:\\n', fp)\n",
        "\n",
        "#2. se procede con el calculo de las medidas de tendencia central\n",
        "#Media, Varianza, coeficiente de asimetria, kurtosis\n",
        "u=np.sum(np.multiply(mc,fp))\n",
        "print('la media de los datos es:\\n',u)\n",
        "\n",
        "#3. Desviacion - Estandar (Varianza)\n",
        "var=np.sum(np.multiply((mc-u)**2,fp)) #suma producto del excel\n",
        "std=np.sqrt(var)\n",
        "print('La desviacion estandar de los datos es:\\n', std)\n",
        "\n",
        "#4. Coeficiente de asimetria\n",
        "cas=np.sum(np.multiply(((mc-u)/std)**3,fp))\n",
        "print('El coeficiente de asimetria de los datos es:\\n', cas)\n",
        "\n",
        "#5. coeficiente de kurtosis\n",
        "ck=np.sum(np.multiply(((mc-u)/std)**4,fp))\n",
        "ck=ck-3\n",
        "print('El coeficiente de kurtosis de los datos es:', ck)"
      ],
      "metadata": {
        "colab": {
          "base_uri": "https://localhost:8080/"
        },
        "id": "XhARnG_WlbH0",
        "outputId": "a49ffd53-5177-40bf-abd0-99d7545c4ed5"
      },
      "execution_count": null,
      "outputs": [
        {
          "output_type": "stream",
          "name": "stdout",
          "text": [
            "Los datos por intervalo son:\n",
            " [533  93  37  14   9   5   3   5   1   1]\n",
            "Los limites de los intervalos son:\n",
            " [  0.1423   11.23637  22.33044  33.42451  44.51858  55.61265  66.70672\n",
            "  77.80079  88.89486  99.98893 111.083  ]\n",
            "Los valores centrales de las clases son:\n",
            " [  5.689335  16.783405  27.877475  38.971545  50.065615  61.159685\n",
            "  72.253755  83.347825  94.441895 105.535965]\n",
            "Los datos por intervalo son:\n",
            " [0.76034237 0.13266762 0.05278174 0.01997147 0.0128388  0.00713267\n",
            " 0.0042796  0.00713267 0.00142653 0.00142653]\n",
            "la media de los datos es:\n",
            " 11.07019634094151\n",
            "La desviacion estandar de los datos es:\n",
            " 13.044113210589247\n",
            "El coeficiente de asimetria de los datos es:\n",
            " 3.58241551867726\n",
            "El coeficiente de kurtosis de los datos es: 15.266617247076208\n"
          ]
        }
      ]
    },
    {
      "cell_type": "markdown",
      "source": [
        "**Analisis de Resultados**\n",
        "En la base de datos se cuenta con un total de 701 registros de eventos de perdida asociados con las operaciones a traves de canales electronicos de una FINTECH. Estos registros nos arrojan como resultado una confiabilidad en la estimacion de los estadísticos del 99% de acuerdo con la teoria de los percentiles. En la grafica anterior podemos observar que la distribución presenta estructura de cola larga, esto promovido por un coeficiente de asimetria positivo aproximadamente de 3.348, y un coeficiente de kurtosis aproximadamente de 15 unidades, lo que indica que la mayoría de los datos se encuentran muy concentrados alrededor de la media, en un 76% aproximadamente. Esta estructura muestra claramente que los eventos de pérdida extremos por muy escasos, lo que indica una baja exposicion al riesgo."
      ],
      "metadata": {
        "id": "TqcpsIptsu8P"
      }
    }
  ]
}